{
 "cells": [
  {
   "cell_type": "code",
   "execution_count": 1,
   "metadata": {},
   "outputs": [
    {
     "name": "stderr",
     "output_type": "stream",
     "text": [
      "/home/dr/.local/lib/python3.6/site-packages/h5py/__init__.py:36: FutureWarning: Conversion of the second argument of issubdtype from `float` to `np.floating` is deprecated. In future, it will be treated as `np.float64 == np.dtype(float).type`.\n",
      "  from ._conv import register_converters as _register_converters\n",
      "Using TensorFlow backend.\n"
     ]
    }
   ],
   "source": [
    "import numpy as np\n",
    "import cv2\n",
    "import matplotlib.pyplot as plt\n",
    "import skimage.feature\n",
    "import keras\n",
    "from keras.models import Sequential\n",
    "from keras.layers import Dense, Activation, Flatten, Conv2D, MaxPooling2D\n",
    "import tensorflow as tf"
   ]
  },
  {
   "cell_type": "code",
   "execution_count": 2,
   "metadata": {},
   "outputs": [],
   "source": [
    "r = 0.4\n",
    "width = 100"
   ]
  },
  {
   "cell_type": "code",
   "execution_count": 7,
   "metadata": {},
   "outputs": [],
   "source": [
    "def GetData(filename):\n",
    "    # read the Train and Train Dotted images\n",
    "    image_1 = cv2.imread(\"/home/dr/count_the_bags/input/TrainDotted/\" + filename)\n",
    "    image_2 = cv2.imread(\"/home/dr/count_the_bags/input/Train/\" + filename)\n",
    "    img1 = cv2.GaussianBlur(image_1,(5,5),0)\n",
    "\n",
    "    # absolute difference between Train and Train Dotted\n",
    "    image_3 = cv2.absdiff(image_1,image_2)\n",
    "    mask_1 = cv2.cvtColor(image_1, cv2.COLOR_BGR2GRAY)\n",
    "    mask_1[mask_1 < 50] = 0\n",
    "    mask_1[mask_1 > 0] = 255\n",
    "    image_4 = cv2.bitwise_or(image_3, image_3, mask=mask_1)\n",
    "\n",
    "    # convert to grayscale to be accepted by skimage.feature.blob_log\n",
    "    image_6 = np.max(image_4,axis=2)\n",
    "\n",
    "    # detect blobs\n",
    "    blobs = skimage.feature.blob_log(image_6, min_sigma=3, max_sigma=7, num_sigma=1, threshold=0.05)\n",
    "\n",
    "    h,w,d = image_2.shape\n",
    "\n",
    "    res=np.zeros((int((w*r)//width)+1,int((h*r)//width)+1,5), dtype='int16')\n",
    "\n",
    "    for blob in blobs:\n",
    "        # get the coordinates for each blob\n",
    "        y, x, s = blob\n",
    "        # get the color of the pixel from Train Dotted in the center of the blob\n",
    "        b,g,R = img1[int(y)][int(x)][:]\n",
    "        x1 = int((x*r)//width)\n",
    "        y1 = int((y*r)//width)\n",
    "        # decision tree to pick the class of the blob by looking at the color in Train Dotted\n",
    "        if R > 225 and b < 25 and g < 25: # RED\n",
    "            res[x1,y1,0]+=1\n",
    "            \n",
    "    ma = cv2.cvtColor((1*(np.sum(image_1, axis=2)>20)).astype('uint8'), cv2.COLOR_GRAY2BGR)\n",
    "    img = cv2.resize(image_2 * ma, (int(w*r),int(h*r)))\n",
    "    h1,w1,d = img.shape\n",
    "\n",
    "    trainX = []\n",
    "    trainY = []\n",
    "\n",
    "    for i in range(int(w1//width)):\n",
    "        for j in range(int(h1//width)):\n",
    "            trainY.append(res[i,j,:])\n",
    "            trainX.append(img[j*width:j*width+width,i*width:i*width+width,:])\n",
    "\n",
    "    return np.array(trainX), np.array(trainY)\n",
    "\n",
    "def rmse(predictions, targets):\n",
    "    return np.sqrt(((predictions - targets) ** 2).mean())"
   ]
  },
  {
   "cell_type": "code",
   "execution_count": 6,
   "metadata": {},
   "outputs": [
    {
     "name": "stdout",
     "output_type": "stream",
     "text": [
      "(134, 5) [6 0 0 0 0]\n",
      "(58, 5) [10  0  0  0  0]\n"
     ]
    }
   ],
   "source": [
    "trainX, trainY = GetData(\"13Nov.JPG\")\n",
    "\n",
    "np.random.seed(1004)\n",
    "randomize = np.arange(len(trainX))\n",
    "np.random.shuffle(randomize)\n",
    "trainX = trainX[randomize]\n",
    "trainY = trainY[randomize]\n",
    "\n",
    "n_train = int(len(trainX) * 0.7)\n",
    "testX = trainX[n_train:]\n",
    "testY = trainY[n_train:]\n",
    "trainX = trainX[:n_train]\n",
    "trainY = trainY[:n_train]\n",
    "\n",
    "print(trainY.shape, trainY[0])\n",
    "print(testY.shape, testY[0])"
   ]
  },
  {
   "cell_type": "code",
   "execution_count": null,
   "metadata": {},
   "outputs": [],
   "source": []
  }
 ],
 "metadata": {
  "kernelspec": {
   "display_name": "Python 3",
   "language": "python",
   "name": "python3"
  },
  "language_info": {
   "codemirror_mode": {
    "name": "ipython",
    "version": 3
   },
   "file_extension": ".py",
   "mimetype": "text/x-python",
   "name": "python",
   "nbconvert_exporter": "python",
   "pygments_lexer": "ipython3",
   "version": "3.6.5"
  }
 },
 "nbformat": 4,
 "nbformat_minor": 2
}
